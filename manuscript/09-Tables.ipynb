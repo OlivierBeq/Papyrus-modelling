{
  "nbformat": 4,
  "nbformat_minor": 0,
  "metadata": {
    "colab": {
      "name": "Papyrus tables.ipynb",
      "provenance": [],
      "collapsed_sections": []
    },
    "kernelspec": {
      "name": "python3",
      "display_name": "Python 3"
    },
    "language_info": {
      "name": "python"
    },
    "widgets": {
      "application/vnd.jupyter.widget-state+json": {
        "e280470a7e8940399c55fb3e94fe7783": {
          "model_module": "@jupyter-widgets/controls",
          "model_name": "HBoxModel",
          "model_module_version": "1.5.0",
          "state": {
            "_dom_classes": [],
            "_model_module": "@jupyter-widgets/controls",
            "_model_module_version": "1.5.0",
            "_model_name": "HBoxModel",
            "_view_count": null,
            "_view_module": "@jupyter-widgets/controls",
            "_view_module_version": "1.5.0",
            "_view_name": "HBoxView",
            "box_style": "",
            "children": [
              "IPY_MODEL_59c64932868b476a8f67b4ab42997ec9",
              "IPY_MODEL_39f819a08afb4f7da851cf443e760520",
              "IPY_MODEL_f9e13de738fb4e8480e45b6e47b4140d"
            ],
            "layout": "IPY_MODEL_1d0c6813ee8d44db9ed0a6e19148a64c"
          }
        },
        "59c64932868b476a8f67b4ab42997ec9": {
          "model_module": "@jupyter-widgets/controls",
          "model_name": "HTMLModel",
          "model_module_version": "1.5.0",
          "state": {
            "_dom_classes": [],
            "_model_module": "@jupyter-widgets/controls",
            "_model_module_version": "1.5.0",
            "_model_name": "HTMLModel",
            "_view_count": null,
            "_view_module": "@jupyter-widgets/controls",
            "_view_module_version": "1.5.0",
            "_view_name": "HTMLView",
            "description": "",
            "description_tooltip": null,
            "layout": "IPY_MODEL_8dd414cf74be4f47854f0a63209cbca8",
            "placeholder": "​",
            "style": "IPY_MODEL_7946082e8dcc477c9a1aec8f48e46224",
            "value": "100%"
          }
        },
        "39f819a08afb4f7da851cf443e760520": {
          "model_module": "@jupyter-widgets/controls",
          "model_name": "FloatProgressModel",
          "model_module_version": "1.5.0",
          "state": {
            "_dom_classes": [],
            "_model_module": "@jupyter-widgets/controls",
            "_model_module_version": "1.5.0",
            "_model_name": "FloatProgressModel",
            "_view_count": null,
            "_view_module": "@jupyter-widgets/controls",
            "_view_module_version": "1.5.0",
            "_view_name": "ProgressView",
            "bar_style": "success",
            "description": "",
            "description_tooltip": null,
            "layout": "IPY_MODEL_6d46b5a42ba444808fdeb10d0fc638ee",
            "max": 60,
            "min": 0,
            "orientation": "horizontal",
            "style": "IPY_MODEL_4dcc2cba70d249fab37e708ad051a4b5",
            "value": 60
          }
        },
        "f9e13de738fb4e8480e45b6e47b4140d": {
          "model_module": "@jupyter-widgets/controls",
          "model_name": "HTMLModel",
          "model_module_version": "1.5.0",
          "state": {
            "_dom_classes": [],
            "_model_module": "@jupyter-widgets/controls",
            "_model_module_version": "1.5.0",
            "_model_name": "HTMLModel",
            "_view_count": null,
            "_view_module": "@jupyter-widgets/controls",
            "_view_module_version": "1.5.0",
            "_view_name": "HTMLView",
            "description": "",
            "description_tooltip": null,
            "layout": "IPY_MODEL_08f5176b90504fe098c355ac1382974b",
            "placeholder": "​",
            "style": "IPY_MODEL_5ef816e764a849b7beb475365b6483d7",
            "value": " 60/60 [18:02&lt;00:00, 17.15s/it]"
          }
        },
        "1d0c6813ee8d44db9ed0a6e19148a64c": {
          "model_module": "@jupyter-widgets/base",
          "model_name": "LayoutModel",
          "model_module_version": "1.2.0",
          "state": {
            "_model_module": "@jupyter-widgets/base",
            "_model_module_version": "1.2.0",
            "_model_name": "LayoutModel",
            "_view_count": null,
            "_view_module": "@jupyter-widgets/base",
            "_view_module_version": "1.2.0",
            "_view_name": "LayoutView",
            "align_content": null,
            "align_items": null,
            "align_self": null,
            "border": null,
            "bottom": null,
            "display": null,
            "flex": null,
            "flex_flow": null,
            "grid_area": null,
            "grid_auto_columns": null,
            "grid_auto_flow": null,
            "grid_auto_rows": null,
            "grid_column": null,
            "grid_gap": null,
            "grid_row": null,
            "grid_template_areas": null,
            "grid_template_columns": null,
            "grid_template_rows": null,
            "height": null,
            "justify_content": null,
            "justify_items": null,
            "left": null,
            "margin": null,
            "max_height": null,
            "max_width": null,
            "min_height": null,
            "min_width": null,
            "object_fit": null,
            "object_position": null,
            "order": null,
            "overflow": null,
            "overflow_x": null,
            "overflow_y": null,
            "padding": null,
            "right": null,
            "top": null,
            "visibility": null,
            "width": null
          }
        },
        "8dd414cf74be4f47854f0a63209cbca8": {
          "model_module": "@jupyter-widgets/base",
          "model_name": "LayoutModel",
          "model_module_version": "1.2.0",
          "state": {
            "_model_module": "@jupyter-widgets/base",
            "_model_module_version": "1.2.0",
            "_model_name": "LayoutModel",
            "_view_count": null,
            "_view_module": "@jupyter-widgets/base",
            "_view_module_version": "1.2.0",
            "_view_name": "LayoutView",
            "align_content": null,
            "align_items": null,
            "align_self": null,
            "border": null,
            "bottom": null,
            "display": null,
            "flex": null,
            "flex_flow": null,
            "grid_area": null,
            "grid_auto_columns": null,
            "grid_auto_flow": null,
            "grid_auto_rows": null,
            "grid_column": null,
            "grid_gap": null,
            "grid_row": null,
            "grid_template_areas": null,
            "grid_template_columns": null,
            "grid_template_rows": null,
            "height": null,
            "justify_content": null,
            "justify_items": null,
            "left": null,
            "margin": null,
            "max_height": null,
            "max_width": null,
            "min_height": null,
            "min_width": null,
            "object_fit": null,
            "object_position": null,
            "order": null,
            "overflow": null,
            "overflow_x": null,
            "overflow_y": null,
            "padding": null,
            "right": null,
            "top": null,
            "visibility": null,
            "width": null
          }
        },
        "7946082e8dcc477c9a1aec8f48e46224": {
          "model_module": "@jupyter-widgets/controls",
          "model_name": "DescriptionStyleModel",
          "model_module_version": "1.5.0",
          "state": {
            "_model_module": "@jupyter-widgets/controls",
            "_model_module_version": "1.5.0",
            "_model_name": "DescriptionStyleModel",
            "_view_count": null,
            "_view_module": "@jupyter-widgets/base",
            "_view_module_version": "1.2.0",
            "_view_name": "StyleView",
            "description_width": ""
          }
        },
        "6d46b5a42ba444808fdeb10d0fc638ee": {
          "model_module": "@jupyter-widgets/base",
          "model_name": "LayoutModel",
          "model_module_version": "1.2.0",
          "state": {
            "_model_module": "@jupyter-widgets/base",
            "_model_module_version": "1.2.0",
            "_model_name": "LayoutModel",
            "_view_count": null,
            "_view_module": "@jupyter-widgets/base",
            "_view_module_version": "1.2.0",
            "_view_name": "LayoutView",
            "align_content": null,
            "align_items": null,
            "align_self": null,
            "border": null,
            "bottom": null,
            "display": null,
            "flex": null,
            "flex_flow": null,
            "grid_area": null,
            "grid_auto_columns": null,
            "grid_auto_flow": null,
            "grid_auto_rows": null,
            "grid_column": null,
            "grid_gap": null,
            "grid_row": null,
            "grid_template_areas": null,
            "grid_template_columns": null,
            "grid_template_rows": null,
            "height": null,
            "justify_content": null,
            "justify_items": null,
            "left": null,
            "margin": null,
            "max_height": null,
            "max_width": null,
            "min_height": null,
            "min_width": null,
            "object_fit": null,
            "object_position": null,
            "order": null,
            "overflow": null,
            "overflow_x": null,
            "overflow_y": null,
            "padding": null,
            "right": null,
            "top": null,
            "visibility": null,
            "width": null
          }
        },
        "4dcc2cba70d249fab37e708ad051a4b5": {
          "model_module": "@jupyter-widgets/controls",
          "model_name": "ProgressStyleModel",
          "model_module_version": "1.5.0",
          "state": {
            "_model_module": "@jupyter-widgets/controls",
            "_model_module_version": "1.5.0",
            "_model_name": "ProgressStyleModel",
            "_view_count": null,
            "_view_module": "@jupyter-widgets/base",
            "_view_module_version": "1.2.0",
            "_view_name": "StyleView",
            "bar_color": null,
            "description_width": ""
          }
        },
        "08f5176b90504fe098c355ac1382974b": {
          "model_module": "@jupyter-widgets/base",
          "model_name": "LayoutModel",
          "model_module_version": "1.2.0",
          "state": {
            "_model_module": "@jupyter-widgets/base",
            "_model_module_version": "1.2.0",
            "_model_name": "LayoutModel",
            "_view_count": null,
            "_view_module": "@jupyter-widgets/base",
            "_view_module_version": "1.2.0",
            "_view_name": "LayoutView",
            "align_content": null,
            "align_items": null,
            "align_self": null,
            "border": null,
            "bottom": null,
            "display": null,
            "flex": null,
            "flex_flow": null,
            "grid_area": null,
            "grid_auto_columns": null,
            "grid_auto_flow": null,
            "grid_auto_rows": null,
            "grid_column": null,
            "grid_gap": null,
            "grid_row": null,
            "grid_template_areas": null,
            "grid_template_columns": null,
            "grid_template_rows": null,
            "height": null,
            "justify_content": null,
            "justify_items": null,
            "left": null,
            "margin": null,
            "max_height": null,
            "max_width": null,
            "min_height": null,
            "min_width": null,
            "object_fit": null,
            "object_position": null,
            "order": null,
            "overflow": null,
            "overflow_x": null,
            "overflow_y": null,
            "padding": null,
            "right": null,
            "top": null,
            "visibility": null,
            "width": null
          }
        },
        "5ef816e764a849b7beb475365b6483d7": {
          "model_module": "@jupyter-widgets/controls",
          "model_name": "DescriptionStyleModel",
          "model_module_version": "1.5.0",
          "state": {
            "_model_module": "@jupyter-widgets/controls",
            "_model_module_version": "1.5.0",
            "_model_name": "DescriptionStyleModel",
            "_view_count": null,
            "_view_module": "@jupyter-widgets/base",
            "_view_module_version": "1.2.0",
            "_view_name": "StyleView",
            "description_width": ""
          }
        }
      }
    }
  },
  "cells": [
    {
      "cell_type": "code",
      "execution_count": null,
      "metadata": {
        "id": "TQHAfeQMtUNe"
      },
      "outputs": [],
      "source": [
        "%%capture\n",
        "!pip install https://github.com/OlivierBeq/Papyrus-scripts/tarball/master\n",
        "!pip install -U kaleido\n",
        "get_ipython().kernel.do_shutdown(True)"
      ]
    },
    {
      "cell_type": "code",
      "source": [
        "!gdown \"https://drive.google.com/uc?id=1A7XDndNywq_g6g0gdy3LR8PGvjXgYf_Y&confirm=t\"\n",
        "!gdown \"https://drive.google.com/uc?id=15zbhi5S8e-xFe-V3KJhqPPaMCz00dVrV&confirm=t\"\n",
        "!gdown \"https://drive.google.com/uc?id=1d4zjI8FGIYi6hQkigNKs9bxRGrQgwLp9&confirm=t\""
      ],
      "metadata": {
        "colab": {
          "base_uri": "https://localhost:8080/"
        },
        "id": "wYbMvsWDtafH",
        "outputId": "0e1b3798-533d-4bf7-cfef-d331b8e9a98d"
      },
      "execution_count": null,
      "outputs": [
        {
          "output_type": "stream",
          "name": "stdout",
          "text": [
            "Downloading...\n",
            "From: https://drive.google.com/uc?id=1A7XDndNywq_g6g0gdy3LR8PGvjXgYf_Y&confirm=t\n",
            "To: /content/05.5_combined_set_protein_targets.tsv.xz\n",
            "100% 1.71M/1.71M [00:00<00:00, 58.0MB/s]\n",
            "Downloading...\n",
            "From: https://drive.google.com/uc?id=1KHjl5uZ8cBjUg50IKbBf8qp07gglqVoh&confirm=t\n",
            "To: /content/05.5_combined_set_without_stereochemistry.tsv.xz\n",
            "100% 719M/719M [00:05<00:00, 126MB/s]\n",
            "Downloading...\n",
            "From: https://drive.google.com/uc?id=1d4zjI8FGIYi6hQkigNKs9bxRGrQgwLp9&confirm=t\n",
            "To: /content/05.5_combined_set_with_stereochemistry.tsv.xz\n",
            "100% 690M/690M [00:07<00:00, 96.2MB/s]\n",
            "Downloading...\n",
            "From: https://drive.google.com/uc?id=14y3R45-t2pA-_Vkj5RiG1dPu5pOb4T72&confirm=t\n",
            "To: /content/05.5_combined_set_without_stereochemistry_fixed.tsv.gz\n",
            "100% 1.80G/1.80G [00:16<00:00, 112MB/s]\n"
          ]
        }
      ]
    },
    {
      "cell_type": "code",
      "source": [
        "from collections import Counter, defaultdict\n",
        "import pandas as pd\n",
        "from tqdm.auto import tqdm\n",
        "\n",
        "from papyrus_scripts.reader import read_protein_set"
      ],
      "metadata": {
        "id": "AgjH1hg7tbtW"
      },
      "execution_count": null,
      "outputs": []
    },
    {
      "cell_type": "code",
      "source": [
        "Counter(pd.read_csv('05.5_combined_set_without_stereochemistry_fixed.tsv.xz', sep='\\t', usecols=['Quality']).sqeez)"
      ],
      "metadata": {
        "id": "oQA_UZIg8S02"
      },
      "execution_count": null,
      "outputs": []
    },
    {
      "cell_type": "code",
      "source": [
        "pbar = tqdm(total=60)\n",
        "stats = {}\n",
        "protein_data = pd.read_csv('05.5_combined_set_protein_targets.tsv.xz', sep='\\t', keep_default_na=False)\n",
        "for chunk in pd.read_csv('05.5_combined_set_without_stereochemistry_fixed.tsv.gz', sep='\\t', chunksize=1000000):\n",
        "    merged = chunk.merge(protein_data, on='target_id')\n",
        "    for species in tqdm(merged['Organism'].unique(), leave=False):\n",
        "        high_qual = merged[(merged['Organism'] == species) & (merged['Quality'] == 'High')]\n",
        "        med_qual = merged[(merged['Organism'] == species) & (merged['Quality'] == 'Medium')]\n",
        "        low_qual = merged[(merged['Organism'] == species) & (merged['Quality'] == 'Low')]\n",
        "        if species in stats:\n",
        "            stats[species]['High'] += len(high_qual.index)\n",
        "            stats[species]['Medium'] += len(med_qual.index)\n",
        "            stats[species]['Low'] += len(low_qual.index)\n",
        "            stats[species]['Total'] += len(high_qual.index) + len(med_qual.index) + len(low_qual.index)\n",
        "        else:\n",
        "            stats[species] = {'High': len(high_qual.index), 'Medium': len(med_qual.index), 'Low': len(low_qual.index), 'Total': len(high_qual.index) + len(med_qual.index) + len(low_qual.index)}\n",
        "    pbar.update()"
      ],
      "metadata": {
        "id": "yTb8U_iDtl4t"
      },
      "execution_count": null,
      "outputs": []
    },
    {
      "cell_type": "code",
      "source": [
        "pd.DataFrame([{'Organism': key, **value} for key, value in stats.items()]).sort_values(by='Total', ascending=False).iloc[:10,:].reset_index(drop=True)"
      ],
      "metadata": {
        "id": "IZTow9QLv95v",
        "colab": {
          "base_uri": "https://localhost:8080/",
          "height": 363
        },
        "outputId": "da9438a1-c919-43a3-b967-4f9aad921d51"
      },
      "execution_count": null,
      "outputs": [
        {
          "output_type": "execute_result",
          "data": {
            "text/plain": [
              "                               Organism    High  Medium       Low     Total\n",
              "0                  Homo sapiens (Human)  987436  246401  54364908  55598745\n",
              "1                  Mus musculus (Mouse)   42078    6682   2465157   2513917\n",
              "2               Rattus norvegicus (Rat)   60475   32061   1151955   1244491\n",
              "3         Escherichia coli (strain K12)     539   11298     60030     71867\n",
              "4                Equus caballus (Horse)   18330      32     27988     46350\n",
              "5  Influenza A virus (A/WSN/1933(H1N1))   23813       0      9143     32956\n",
              "6                     Trypanosoma cruzi    5935      30     23927     29892\n",
              "7     Schistosoma mansoni (Blood fluke)   13916       0     14473     28389\n",
              "8                     Bacillus subtilis   12106       0     11693     23799\n",
              "9                   Bos taurus (Bovine)    5944    5105      8918     19967"
            ],
            "text/html": [
              "<div>\n",
              "<style scoped>\n",
              "    .dataframe tbody tr th:only-of-type {\n",
              "        vertical-align: middle;\n",
              "    }\n",
              "\n",
              "    .dataframe tbody tr th {\n",
              "        vertical-align: top;\n",
              "    }\n",
              "\n",
              "    .dataframe thead th {\n",
              "        text-align: right;\n",
              "    }\n",
              "</style>\n",
              "<table border=\"1\" class=\"dataframe\">\n",
              "  <thead>\n",
              "    <tr style=\"text-align: right;\">\n",
              "      <th></th>\n",
              "      <th>Organism</th>\n",
              "      <th>High</th>\n",
              "      <th>Medium</th>\n",
              "      <th>Low</th>\n",
              "      <th>Total</th>\n",
              "    </tr>\n",
              "  </thead>\n",
              "  <tbody>\n",
              "    <tr>\n",
              "      <th>0</th>\n",
              "      <td>Homo sapiens (Human)</td>\n",
              "      <td>987436</td>\n",
              "      <td>246401</td>\n",
              "      <td>54364908</td>\n",
              "      <td>55598745</td>\n",
              "    </tr>\n",
              "    <tr>\n",
              "      <th>1</th>\n",
              "      <td>Mus musculus (Mouse)</td>\n",
              "      <td>42078</td>\n",
              "      <td>6682</td>\n",
              "      <td>2465157</td>\n",
              "      <td>2513917</td>\n",
              "    </tr>\n",
              "    <tr>\n",
              "      <th>2</th>\n",
              "      <td>Rattus norvegicus (Rat)</td>\n",
              "      <td>60475</td>\n",
              "      <td>32061</td>\n",
              "      <td>1151955</td>\n",
              "      <td>1244491</td>\n",
              "    </tr>\n",
              "    <tr>\n",
              "      <th>3</th>\n",
              "      <td>Escherichia coli (strain K12)</td>\n",
              "      <td>539</td>\n",
              "      <td>11298</td>\n",
              "      <td>60030</td>\n",
              "      <td>71867</td>\n",
              "    </tr>\n",
              "    <tr>\n",
              "      <th>4</th>\n",
              "      <td>Equus caballus (Horse)</td>\n",
              "      <td>18330</td>\n",
              "      <td>32</td>\n",
              "      <td>27988</td>\n",
              "      <td>46350</td>\n",
              "    </tr>\n",
              "    <tr>\n",
              "      <th>5</th>\n",
              "      <td>Influenza A virus (A/WSN/1933(H1N1))</td>\n",
              "      <td>23813</td>\n",
              "      <td>0</td>\n",
              "      <td>9143</td>\n",
              "      <td>32956</td>\n",
              "    </tr>\n",
              "    <tr>\n",
              "      <th>6</th>\n",
              "      <td>Trypanosoma cruzi</td>\n",
              "      <td>5935</td>\n",
              "      <td>30</td>\n",
              "      <td>23927</td>\n",
              "      <td>29892</td>\n",
              "    </tr>\n",
              "    <tr>\n",
              "      <th>7</th>\n",
              "      <td>Schistosoma mansoni (Blood fluke)</td>\n",
              "      <td>13916</td>\n",
              "      <td>0</td>\n",
              "      <td>14473</td>\n",
              "      <td>28389</td>\n",
              "    </tr>\n",
              "    <tr>\n",
              "      <th>8</th>\n",
              "      <td>Bacillus subtilis</td>\n",
              "      <td>12106</td>\n",
              "      <td>0</td>\n",
              "      <td>11693</td>\n",
              "      <td>23799</td>\n",
              "    </tr>\n",
              "    <tr>\n",
              "      <th>9</th>\n",
              "      <td>Bos taurus (Bovine)</td>\n",
              "      <td>5944</td>\n",
              "      <td>5105</td>\n",
              "      <td>8918</td>\n",
              "      <td>19967</td>\n",
              "    </tr>\n",
              "  </tbody>\n",
              "</table>\n",
              "</div>"
            ]
          },
          "metadata": {},
          "execution_count": 3
        }
      ]
    },
    {
      "cell_type": "code",
      "source": [
        "pd.DataFrame([{'Organism': key, **value} for key, value in stats.items()]).sort_values(by='Total', ascending=False).reset_index(drop=True)"
      ],
      "metadata": {
        "id": "ODkD7-oGvn-M",
        "colab": {
          "base_uri": "https://localhost:8080/",
          "height": 423
        },
        "outputId": "3df694e1-1c40-4730-d95b-ec157c77f6d3"
      },
      "execution_count": null,
      "outputs": [
        {
          "output_type": "execute_result",
          "data": {
            "text/plain": [
              "                                              Organism    High  Medium  \\\n",
              "0                                 Homo sapiens (Human)  987436  246401   \n",
              "1                                 Mus musculus (Mouse)   42078    6682   \n",
              "2                              Rattus norvegicus (Rat)   60475   32061   \n",
              "3                        Escherichia coli (strain K12)     539   11298   \n",
              "4                               Equus caballus (Horse)   18330      32   \n",
              "..                                                 ...     ...     ...   \n",
              "494    Komagataella pastoris (Yeast) (Pichia pastoris)       0       0   \n",
              "495  Phytophthora sojae (Soybean stem and root rot ...       1       0   \n",
              "496                           Chondrostereum purpureum       1       0   \n",
              "497  Duck hepatitis B virus (strain Germany/DHBV-3)...       0       1   \n",
              "498                        Daucus carota (Wild carrot)       1       0   \n",
              "\n",
              "          Low     Total  \n",
              "0    54364908  55598745  \n",
              "1     2465157   2513917  \n",
              "2     1151955   1244491  \n",
              "3       60030     71867  \n",
              "4       27988     46350  \n",
              "..        ...       ...  \n",
              "494         1         1  \n",
              "495         0         1  \n",
              "496         0         1  \n",
              "497         0         1  \n",
              "498         0         1  \n",
              "\n",
              "[499 rows x 5 columns]"
            ],
            "text/html": [
              "<div>\n",
              "<style scoped>\n",
              "    .dataframe tbody tr th:only-of-type {\n",
              "        vertical-align: middle;\n",
              "    }\n",
              "\n",
              "    .dataframe tbody tr th {\n",
              "        vertical-align: top;\n",
              "    }\n",
              "\n",
              "    .dataframe thead th {\n",
              "        text-align: right;\n",
              "    }\n",
              "</style>\n",
              "<table border=\"1\" class=\"dataframe\">\n",
              "  <thead>\n",
              "    <tr style=\"text-align: right;\">\n",
              "      <th></th>\n",
              "      <th>Organism</th>\n",
              "      <th>High</th>\n",
              "      <th>Medium</th>\n",
              "      <th>Low</th>\n",
              "      <th>Total</th>\n",
              "    </tr>\n",
              "  </thead>\n",
              "  <tbody>\n",
              "    <tr>\n",
              "      <th>0</th>\n",
              "      <td>Homo sapiens (Human)</td>\n",
              "      <td>987436</td>\n",
              "      <td>246401</td>\n",
              "      <td>54364908</td>\n",
              "      <td>55598745</td>\n",
              "    </tr>\n",
              "    <tr>\n",
              "      <th>1</th>\n",
              "      <td>Mus musculus (Mouse)</td>\n",
              "      <td>42078</td>\n",
              "      <td>6682</td>\n",
              "      <td>2465157</td>\n",
              "      <td>2513917</td>\n",
              "    </tr>\n",
              "    <tr>\n",
              "      <th>2</th>\n",
              "      <td>Rattus norvegicus (Rat)</td>\n",
              "      <td>60475</td>\n",
              "      <td>32061</td>\n",
              "      <td>1151955</td>\n",
              "      <td>1244491</td>\n",
              "    </tr>\n",
              "    <tr>\n",
              "      <th>3</th>\n",
              "      <td>Escherichia coli (strain K12)</td>\n",
              "      <td>539</td>\n",
              "      <td>11298</td>\n",
              "      <td>60030</td>\n",
              "      <td>71867</td>\n",
              "    </tr>\n",
              "    <tr>\n",
              "      <th>4</th>\n",
              "      <td>Equus caballus (Horse)</td>\n",
              "      <td>18330</td>\n",
              "      <td>32</td>\n",
              "      <td>27988</td>\n",
              "      <td>46350</td>\n",
              "    </tr>\n",
              "    <tr>\n",
              "      <th>...</th>\n",
              "      <td>...</td>\n",
              "      <td>...</td>\n",
              "      <td>...</td>\n",
              "      <td>...</td>\n",
              "      <td>...</td>\n",
              "    </tr>\n",
              "    <tr>\n",
              "      <th>494</th>\n",
              "      <td>Komagataella pastoris (Yeast) (Pichia pastoris)</td>\n",
              "      <td>0</td>\n",
              "      <td>0</td>\n",
              "      <td>1</td>\n",
              "      <td>1</td>\n",
              "    </tr>\n",
              "    <tr>\n",
              "      <th>495</th>\n",
              "      <td>Phytophthora sojae (Soybean stem and root rot ...</td>\n",
              "      <td>1</td>\n",
              "      <td>0</td>\n",
              "      <td>0</td>\n",
              "      <td>1</td>\n",
              "    </tr>\n",
              "    <tr>\n",
              "      <th>496</th>\n",
              "      <td>Chondrostereum purpureum</td>\n",
              "      <td>1</td>\n",
              "      <td>0</td>\n",
              "      <td>0</td>\n",
              "      <td>1</td>\n",
              "    </tr>\n",
              "    <tr>\n",
              "      <th>497</th>\n",
              "      <td>Duck hepatitis B virus (strain Germany/DHBV-3)...</td>\n",
              "      <td>0</td>\n",
              "      <td>1</td>\n",
              "      <td>0</td>\n",
              "      <td>1</td>\n",
              "    </tr>\n",
              "    <tr>\n",
              "      <th>498</th>\n",
              "      <td>Daucus carota (Wild carrot)</td>\n",
              "      <td>1</td>\n",
              "      <td>0</td>\n",
              "      <td>0</td>\n",
              "      <td>1</td>\n",
              "    </tr>\n",
              "  </tbody>\n",
              "</table>\n",
              "<p>499 rows × 5 columns</p>\n",
              "</div>"
            ]
          },
          "metadata": {},
          "execution_count": 4
        }
      ]
    },
    {
      "cell_type": "code",
      "source": [
        "pbar = tqdm(total=60)\n",
        "types = defaultdict(int)\n",
        "for chunk in pd.read_csv('05.5_combined_set_without_stereochemistry_fixed.tsv.gz', sep='\\t', chunksize=1000000, usecols=['type_IC50', 'type_EC50', 'type_KD', 'type_Ki', 'type_other']):\n",
        "    types['IC50'] += chunk['type_IC50'].fillna(0).astype(str).str.split(';').map(lambda x: sum(int(k) for k in x)).sum()\n",
        "    types['EC50'] += chunk['type_EC50'].fillna(0).astype(str).str.split(';').map(lambda x: sum(int(k) for k in x)).sum()\n",
        "    types['KI'] += chunk['type_Ki'].fillna(0).astype(str).str.split(';').map(lambda x: sum(int(k) for k in x)).sum()\n",
        "    types['KD'] += chunk['type_KD'].fillna(0).astype(str).str.split(';').map(lambda x: sum(int(k) for k in x)).sum()\n",
        "    types['Other'] += chunk['type_other'].fillna(0).astype(str).str.split(';').map(lambda x: sum(int(k) for k in x)).sum()\n",
        "    pbar.update()\n",
        "pbar.close()"
      ],
      "metadata": {
        "colab": {
          "base_uri": "https://localhost:8080/",
          "height": 86,
          "referenced_widgets": [
            "e280470a7e8940399c55fb3e94fe7783",
            "59c64932868b476a8f67b4ab42997ec9",
            "39f819a08afb4f7da851cf443e760520",
            "f9e13de738fb4e8480e45b6e47b4140d",
            "1d0c6813ee8d44db9ed0a6e19148a64c",
            "8dd414cf74be4f47854f0a63209cbca8",
            "7946082e8dcc477c9a1aec8f48e46224",
            "6d46b5a42ba444808fdeb10d0fc638ee",
            "4dcc2cba70d249fab37e708ad051a4b5",
            "08f5176b90504fe098c355ac1382974b",
            "5ef816e764a849b7beb475365b6483d7"
          ]
        },
        "id": "TmCCfbffu4vm",
        "outputId": "7fa4f446-d3bf-4463-956c-eb1738ae43e2"
      },
      "execution_count": null,
      "outputs": [
        {
          "output_type": "display_data",
          "data": {
            "text/plain": [
              "  0%|          | 0/60 [00:00<?, ?it/s]"
            ],
            "application/vnd.jupyter.widget-view+json": {
              "version_major": 2,
              "version_minor": 0,
              "model_id": "e280470a7e8940399c55fb3e94fe7783"
            }
          },
          "metadata": {}
        },
        {
          "output_type": "stream",
          "name": "stderr",
          "text": [
            "/usr/local/lib/python3.7/dist-packages/IPython/core/interactiveshell.py:2822: DtypeWarning: Columns (17,18,19,20,21) have mixed types.Specify dtype option on import or set low_memory=False.\n",
            "  if self.run_code(code, result):\n"
          ]
        }
      ]
    },
    {
      "cell_type": "code",
      "source": [
        "types"
      ],
      "metadata": {
        "colab": {
          "base_uri": "https://localhost:8080/"
        },
        "id": "6JVYFWV47KIV",
        "outputId": "4fd4e4c8-da49-4b2d-8ccb-744ab31e3464"
      },
      "execution_count": null,
      "outputs": [
        {
          "output_type": "execute_result",
          "data": {
            "text/plain": [
              "defaultdict(int,\n",
              "            {'EC50': 142251,\n",
              "             'IC50': 1082403,\n",
              "             'KD': 119455,\n",
              "             'KI': 509022,\n",
              "             'Other': 58314761})"
            ]
          },
          "metadata": {},
          "execution_count": 11
        }
      ]
    }
  ]
}